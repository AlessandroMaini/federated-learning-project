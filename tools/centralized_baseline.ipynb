{
 "cells": [
  {
   "cell_type": "code",
   "execution_count": null,
   "id": "af30975e",
   "metadata": {},
   "outputs": [],
   "source": [
    "# Clone github repository\n",
    "!git clone https://github.com/AlessandroMaini/federated-learning-project.git"
   ]
  },
  {
   "cell_type": "code",
   "execution_count": null,
   "id": "f9bc6edd",
   "metadata": {},
   "outputs": [],
   "source": [
    "%cd federated-learning-project"
   ]
  },
  {
   "cell_type": "code",
   "execution_count": null,
   "id": "741321f9",
   "metadata": {},
   "outputs": [],
   "source": [
    "import os\n",
    "import torch\n",
    "import torch.nn as nn\n",
    "import torch.optim as optim\n",
    "from data.cifar100_loader import get_cifar100_loaders\n",
    "from models.prepare_model import get_frozen_dino_vits16_model\n",
    "from tools.hyperparameter_tuning import run_grid_search\n",
    "from eval import evaluate\n",
    "from train import train"
   ]
  },
  {
   "cell_type": "code",
   "execution_count": null,
   "id": "7bc0044f",
   "metadata": {},
   "outputs": [],
   "source": [
    "# Set device\n",
    "device = torch.device(\"cuda\" if torch.cuda.is_available() else \"cpu\")\n",
    "\n",
    "# Directories\n",
    "CHECKPOINT_DIR = './checkpoints'\n",
    "os.makedirs(CHECKPOINT_DIR, exist_ok=True)"
   ]
  },
  {
   "cell_type": "code",
   "execution_count": null,
   "id": "25c151bb",
   "metadata": {},
   "outputs": [],
   "source": [
    "train_loader, val_loader, test_loader = get_cifar100_loaders()\n",
    "criterion = nn.CrossEntropyLoss()"
   ]
  },
  {
   "cell_type": "code",
   "execution_count": null,
   "id": "70111fd6",
   "metadata": {},
   "outputs": [],
   "source": [
    "best_cfg, best_model_state = run_grid_search(train_loader, val_loader, get_frozen_dino_vits16_model, criterion, device)"
   ]
  },
  {
   "cell_type": "code",
   "execution_count": null,
   "id": "cf6d0eb7",
   "metadata": {},
   "outputs": [],
   "source": [
    "model = get_frozen_dino_vits16_model(device)\n",
    "model.load_state_dict(best_model_state)"
   ]
  },
  {
   "cell_type": "code",
   "execution_count": null,
   "id": "3b9ee5e8",
   "metadata": {},
   "outputs": [],
   "source": [
    "optimizer = optim.SGD(model.parameters(), lr=best_cfg[0], momentum=best_cfg[1], weight_decay=5e-4)\n",
    "scheduler = optim.lr_scheduler.CosineAnnealingLR(optimizer, T_max=best_cfg[2])"
   ]
  },
  {
   "cell_type": "code",
   "execution_count": null,
   "id": "7cad0fa7",
   "metadata": {},
   "outputs": [],
   "source": [
    "## If you want to load a checkpoint, uncomment the following lines\n",
    "# PATH_TO_CHECKPOINT = \"./checkpoints/dino_vits16_epoch30.pth\"\n",
    "# checkpoint = torch.load(PATH_TO_CHECKPOINT, map_location=device)\n",
    "\n",
    "# model.load_state_dict(checkpoint['model_state_dict'])\n",
    "# optimizer.load_state_dict(checkpoint['optimizer_state_dict'])\n",
    "# scheduler.load_state_dict(checkpoint['scheduler_state_dict'])\n",
    "# start_epoch = checkpoint['epoch']"
   ]
  },
  {
   "cell_type": "code",
   "execution_count": null,
   "id": "2c4457d3",
   "metadata": {},
   "outputs": [],
   "source": [
    "# Train on full training set (train + val)\n",
    "full_train_loader, _, test_loader = get_cifar100_loaders(val_split=0.0)"
   ]
  },
  {
   "cell_type": "code",
   "execution_count": null,
   "id": "1f4f93ec",
   "metadata": {},
   "outputs": [],
   "source": [
    "start_epoch = 0\n",
    "num_epochs = 50\n",
    "\n",
    "hist_train_loss = []\n",
    "hist_train_acc = []\n",
    "hist_test_loss = []\n",
    "hist_test_acc = []\n",
    "\n",
    "for epoch in range(start_epoch, start_epoch + num_epochs + 1):\n",
    "    train_loss, train_acc = train(model, full_train_loader, optimizer, criterion, device)\n",
    "    test_loss, test_acc = evaluate(model, test_loader, criterion, device)\n",
    "    scheduler.step()\n",
    "    \n",
    "    hist_train_loss.append(train_loss)\n",
    "    hist_train_acc.append(train_acc)\n",
    "    hist_test_loss.append(test_loss)\n",
    "    hist_test_acc.append(test_acc)\n",
    "\n",
    "    print(f\"Epoch {epoch+1}/{start_epoch + num_epochs}\")\n",
    "    print(f\"  Train Loss: {train_loss:.4f} | Train Acc: {train_acc:.4f}\")\n",
    "    print(f\"  Test Loss:  {test_loss:.4f} | Test Acc:  {test_acc:.4f}\")\n",
    "\n",
    "    if (epoch + 1) % 10 == 0:\n",
    "        checkpoint = {\n",
    "            'epoch': epoch + 1,\n",
    "            'model_state_dict': model.state_dict(),\n",
    "            'optimizer_state_dict': optimizer.state_dict(),\n",
    "            'scheduler_state_dict': scheduler.state_dict()\n",
    "        }\n",
    "        torch.save(checkpoint, os.path.join(CHECKPOINT_DIR, f'dino_vits16_epoch{epoch+1}.pth'))"
   ]
  }
 ],
 "metadata": {
  "kernelspec": {
   "display_name": ".venv",
   "language": "python",
   "name": "python3"
  },
  "language_info": {
   "codemirror_mode": {
    "name": "ipython",
    "version": 3
   },
   "file_extension": ".py",
   "mimetype": "text/x-python",
   "name": "python",
   "nbconvert_exporter": "python",
   "pygments_lexer": "ipython3",
   "version": "3.12.7"
  }
 },
 "nbformat": 4,
 "nbformat_minor": 5
}
