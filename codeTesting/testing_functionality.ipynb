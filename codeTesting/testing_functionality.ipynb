{
 "cells": [
  {
   "cell_type": "code",
   "execution_count": null,
   "id": "b0d92b73",
   "metadata": {},
   "outputs": [],
   "source": [
    "# Clone github repository\n",
    "!git clone --branch federated https://github.com/AlessandroMaini/federated-learning-project.git"
   ]
  },
  {
   "cell_type": "code",
   "execution_count": null,
   "id": "4f974e16",
   "metadata": {},
   "outputs": [],
   "source": [
    "%cd federated-learning-project "
   ]
  },
  {
   "cell_type": "code",
   "execution_count": null,
   "id": "558aea28",
   "metadata": {},
   "outputs": [],
   "source": [
    "import os\n",
    "import torch\n",
    "import torch.nn as nn\n",
    "import torch.optim as optim\n",
    "import matplotlib.pyplot as plt\n",
    "import random\n",
    "from data.cifar100_loader import get_cifar100_loaders\n",
    "from models.prepare_model import get_frozen_dino_vits16_model\n",
    "from tools.hyperparameter_tuning import run_grid_search\n",
    "from eval import evaluate\n",
    "from train import train\n",
    "from sharding.Imbalance_division import data_division, print_classes_and_counts \n",
    "from FedAvg.averaging import averaging"
   ]
  },
  {
   "cell_type": "code",
   "execution_count": null,
   "id": "59cd8929",
   "metadata": {},
   "outputs": [],
   "source": [
    "# Set device\n",
    "device = torch.device(\"cuda\" if torch.cuda.is_available() else \"cpu\")"
   ]
  },
  {
   "cell_type": "code",
   "execution_count": null,
   "id": "3c445747",
   "metadata": {},
   "outputs": [],
   "source": [
    "train_loader, val_loader, test_loader, train_dataset, test_dataset = get_cifar100_loaders()\n",
    "sharding_dataloaders, cardinality_datasets, sharding_dataloadersTest, cardinality_datasetsTest= data_division(train_dataset,test_dataset, flagTest=1)\n",
    " \n"
   ]
  },
  {
   "cell_type": "code",
   "execution_count": null,
   "id": "1201f52e",
   "metadata": {},
   "outputs": [],
   "source": [
    "for idx, dl in enumerate(sharding_dataloaders):\n",
    "    print_classes_and_counts(dl, name=f\"Client {idx}\")\n",
    "\n",
    "for idx, dl in enumerate(sharding_dataloadersTest):\n",
    "    print_classes_and_counts(dl, name=f\"Client {idx}\")"
   ]
  }
 ],
 "metadata": {
  "kernelspec": {
   "display_name": ".conda",
   "language": "python",
   "name": "python3"
  },
  "language_info": {
   "name": "python",
   "version": "3.11.11"
  }
 },
 "nbformat": 4,
 "nbformat_minor": 5
}
